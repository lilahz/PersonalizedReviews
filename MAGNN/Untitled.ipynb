{
 "cells": [
  {
   "cell_type": "code",
   "execution_count": 6,
   "id": "3fada208-4f7a-457a-8eb4-68e51b5a38f6",
   "metadata": {},
   "outputs": [],
   "source": [
    "import os\n",
    "import pandas as pd\n",
    "\n",
    "from ast import literal_eval"
   ]
  },
  {
   "cell_type": "code",
   "execution_count": 2,
   "id": "6c283280-455c-4276-84af-718b8acf822f",
   "metadata": {},
   "outputs": [],
   "source": [
    "CATEGORY = 'Games'"
   ]
  },
  {
   "cell_type": "code",
   "execution_count": 7,
   "id": "59f18d8c-6cd4-41c7-9516-af5f457f1069",
   "metadata": {},
   "outputs": [],
   "source": [
    "CSVS_PATH = '/sise/bshapira-group/lilachzi/csvs/'\n",
    "train_set = pd.read_csv(os.path.join(CSVS_PATH, 'train_set.csv'), converters={'y_true': literal_eval})\n",
    "train_set = train_set[train_set['category'] == CATEGORY]\n",
    "train_set.reset_index(inplace=True)\n",
    "\n",
    "val_set = pd.read_csv(os.path.join(CSVS_PATH, 'valid_set.csv'), converters={'y_true': literal_eval})\n",
    "val_set = val_set[val_set['category'] == CATEGORY]\n",
    "val_set.reset_index(inplace=True)\n",
    "\n",
    "test_set = pd.read_csv(os.path.join(CSVS_PATH, 'test_set.csv'), converters={'y_true': literal_eval})\n",
    "test_set = test_set[test_set['category'] == CATEGORY]\n",
    "test_set.reset_index(inplace=True)"
   ]
  },
  {
   "cell_type": "code",
   "execution_count": 8,
   "id": "d7b46f4e-6b93-4f98-b96f-ddf2f5263031",
   "metadata": {},
   "outputs": [],
   "source": [
    "users = set(train_set['voter_id'].unique()) | set(val_set['voter_id'].unique()) | set(test_set['voter_id'].unique())\n",
    "products = set(train_set['product_id'].unique()) | set(val_set['product_id'].unique()) | set(test_set['product_id'].unique())\n",
    "\n",
    "reviews = []\n",
    "for row in train_set['y_true']:\n",
    "    reviews.extend(list(row.keys()))\n",
    "for row in val_set['y_true']:\n",
    "    reviews.extend(list(row.keys()))\n",
    "for row in test_set['y_true']:\n",
    "    reviews.extend(list(row.keys()))\n",
    "reviews = set(reviews)\n",
    "\n",
    "def node_mapping(nodes):\n",
    "    # id2idx = mapping betweem the node original id and its sorted index\n",
    "    # idx2id = mapping between the sorted index and the corresponsing original id\n",
    "    id2idx, idx2id = {}, {}\n",
    "\n",
    "    for idx, node in enumerate(nodes):\n",
    "        id2idx[node] = idx\n",
    "        idx2id[idx] = node\n",
    "\n",
    "    return id2idx, idx2id\n",
    "\n",
    "users_id2idx, users_idx2id = node_mapping(users)\n",
    "reviews_id2idx, reviews_idx2id = node_mapping(reviews)\n",
    "products_id2idx, products_idx2id = node_mapping(products)"
   ]
  },
  {
   "cell_type": "code",
   "execution_count": null,
   "id": "2cad6d98-5ee3-42b5-b0db-3eb6defce3fe",
   "metadata": {},
   "outputs": [],
   "source": [
    "val_y_proba = "
   ]
  }
 ],
 "metadata": {
  "kernelspec": {
   "display_name": "Python 3 (ipykernel)",
   "language": "python",
   "name": "python3"
  },
  "language_info": {
   "codemirror_mode": {
    "name": "ipython",
    "version": 3
   },
   "file_extension": ".py",
   "mimetype": "text/x-python",
   "name": "python",
   "nbconvert_exporter": "python",
   "pygments_lexer": "ipython3",
   "version": "3.11.7"
  }
 },
 "nbformat": 4,
 "nbformat_minor": 5
}
