{
 "cells": [
  {
   "cell_type": "code",
   "execution_count": 1,
   "id": "e7ead82a-edf3-4b6a-885e-1a8f5a4606c4",
   "metadata": {
    "jupyter": {
     "source_hidden": true
    },
    "tags": []
   },
   "outputs": [],
   "source": [
    "import math\n",
    "\n",
    "def calc_ndcg(relevance_list):\n",
    "    dcg = 0\n",
    "    for i, relevance in enumerate(relevance_list):\n",
    "        dcg += (relevance) / math.log2(i + 1 + 1)\n",
    "    idcg = 0\n",
    "    ideal_rank = sorted(relevance_list, reverse=True)\n",
    "    for i, relevance in enumerate(ideal_rank):\n",
    "        idcg += (relevance) / math.log2(i + 1 + 1)\n",
    "    if idcg > 0:\n",
    "        ndcg = float(dcg) / idcg\n",
    "    else:\n",
    "        ndcg = 0\n",
    "    return ndcg\n",
    "\n",
    "def calc_mrr(y_pred):\n",
    "    rr = [1/idx for idx, y in enumerate(y_pred, start=1) if y >= 3]\n",
    "    \n",
    "    if not rr:\n",
    "        return 0.0\n",
    "    \n",
    "    return sum(rr) / len(rr)\n",
    "\n",
    "def calc_recall_at_k(y_pred, k):\n",
    "    relevant = len([y for y in y_true if y >= 3])\n",
    "    if y_pred is None or not relevant:\n",
    "        return None\n",
    "    predicted = len([y for y in y_pred[:k] if y >= 3])\n",
    "\n",
    "    return float(predicted) / float(relevant)\n",
    "\n",
    "def calc_precision_at_k(y_pred, k):\n",
    "    predicted = len([y for y in y_pred[:k] if y >= 3])\n",
    "\n",
    "    return float(predicted) / float(k)\n",
    "\n",
    "def calc_hit_at_k(y_pred, k):\n",
    "    predicted = len([y for y in y_pred[:k] if y >= 3])\n",
    "    \n",
    "    if predicted > 0:\n",
    "        return 1\n",
    "    else:\n",
    "        return 0 "
   ]
  },
  {
   "cell_type": "code",
   "execution_count": 2,
   "id": "294ab92f-5e3f-4979-8109-45c5635656c0",
   "metadata": {},
   "outputs": [],
   "source": [
    "import pandas as pd\n",
    "import random\n",
    "import torch\n",
    "\n",
    "from tqdm import tqdm\n",
    "\n",
    "tqdm.pandas()"
   ]
  },
  {
   "cell_type": "code",
   "execution_count": 3,
   "id": "754ecb8a-96ec-4cc3-b408-9db133941207",
   "metadata": {},
   "outputs": [],
   "source": [
    "category = 'Games'\n",
    "signal = 'like'"
   ]
  },
  {
   "cell_type": "code",
   "execution_count": 85,
   "id": "f0964a42-ca11-4977-a6c3-08170d2e0c4d",
   "metadata": {},
   "outputs": [],
   "source": [
    "predictions = pd.read_csv(f'/sise/bshapira-group/lilachzi/models/LlamaRec/experiments/new2/ciao{category}_{signal}/predictions.csv')\n",
    "predictions['y'] = predictions['y'].apply(eval)\n",
    "predictions['rank'] = predictions['rank'].apply(eval)\n",
    "predictions['scores'] = predictions['scores'].apply(eval)"
   ]
  },
  {
   "cell_type": "code",
   "execution_count": 86,
   "id": "b713df64-8c19-475a-81c8-f8a428c4806c",
   "metadata": {},
   "outputs": [
    {
     "name": "stderr",
     "output_type": "stream",
     "text": [
      "/tmp/ipykernel_32433/1918291347.py:2: FutureWarning: The default value of numeric_only in DataFrame.mean is deprecated. In a future version, it will default to False. In addition, specifying 'numeric_only=None' is deprecated. Select only valid columns or specify the value of numeric_only to silence this warning.\n",
      "  {k:v for k,v in predictions.iloc[:, 2:].mean().items()}\n"
     ]
    },
    {
     "data": {
      "text/plain": [
       "{'nDCG@5': 0.8538683177606385,\n",
       " 'MRR': 0.699793705289158,\n",
       " 'Recall@1': 0.5179661058488807,\n",
       " 'Recall@3': 0.8858619379272233,\n",
       " 'Recall@5': 0.9538351012524495,\n",
       " 'Precision@1': 0.6634772373466986,\n",
       " 'Precision@3': 0.42729493361683807,\n",
       " 'Precision@5': 0.301135284960322,\n",
       " 'Hit@1': 0.6634772373466986,\n",
       " 'Hit@3': 0.9792687094202073,\n",
       " 'Hit@5': 0.9999620306033337}"
      ]
     },
     "execution_count": 86,
     "metadata": {},
     "output_type": "execute_result"
    }
   ],
   "source": [
    "{k:v for k,v in predictions.iloc[:, 2:].mean().items()}"
   ]
  },
  {
   "cell_type": "code",
   "execution_count": 18,
   "id": "f3399c02-00fb-4a82-980c-913cccc9b360",
   "metadata": {},
   "outputs": [
    {
     "data": {
      "text/html": [
       "<div>\n",
       "<style scoped>\n",
       "    .dataframe tbody tr th:only-of-type {\n",
       "        vertical-align: middle;\n",
       "    }\n",
       "\n",
       "    .dataframe tbody tr th {\n",
       "        vertical-align: top;\n",
       "    }\n",
       "\n",
       "    .dataframe thead th {\n",
       "        text-align: right;\n",
       "    }\n",
       "</style>\n",
       "<table border=\"1\" class=\"dataframe\">\n",
       "  <thead>\n",
       "    <tr style=\"text-align: right;\">\n",
       "      <th></th>\n",
       "      <th>category</th>\n",
       "      <th>product_id</th>\n",
       "      <th>voter_id</th>\n",
       "      <th>y_true</th>\n",
       "    </tr>\n",
       "  </thead>\n",
       "  <tbody>\n",
       "    <tr>\n",
       "      <th>124</th>\n",
       "      <td>Beauty</td>\n",
       "      <td>86969</td>\n",
       "      <td>6860317</td>\n",
       "      <td>{187: 3, 169291: 0, 175349: 0, 206266: 0}</td>\n",
       "    </tr>\n",
       "    <tr>\n",
       "      <th>125</th>\n",
       "      <td>Beauty</td>\n",
       "      <td>86969</td>\n",
       "      <td>5781064</td>\n",
       "      <td>{187: 3, 169291: 0, 175349: 0, 206266: 0}</td>\n",
       "    </tr>\n",
       "    <tr>\n",
       "      <th>126</th>\n",
       "      <td>Beauty</td>\n",
       "      <td>86969</td>\n",
       "      <td>5891</td>\n",
       "      <td>{169291: 4, 187: 3, 175349: 0, 206266: 0}</td>\n",
       "    </tr>\n",
       "    <tr>\n",
       "      <th>127</th>\n",
       "      <td>Beauty</td>\n",
       "      <td>86969</td>\n",
       "      <td>6772013</td>\n",
       "      <td>{187: 3, 169291: 0, 175349: 0, 206266: 0}</td>\n",
       "    </tr>\n",
       "    <tr>\n",
       "      <th>128</th>\n",
       "      <td>Beauty</td>\n",
       "      <td>86969</td>\n",
       "      <td>6023030</td>\n",
       "      <td>{187: 4, 206266: 4, 169291: 0, 175349: 0}</td>\n",
       "    </tr>\n",
       "    <tr>\n",
       "      <th>...</th>\n",
       "      <td>...</td>\n",
       "      <td>...</td>\n",
       "      <td>...</td>\n",
       "      <td>...</td>\n",
       "    </tr>\n",
       "    <tr>\n",
       "      <th>392726</th>\n",
       "      <td>Beauty</td>\n",
       "      <td>48892</td>\n",
       "      <td>5001138</td>\n",
       "      <td>{303517: 3, 121404: 0, 238641: 0, 296833: 0}</td>\n",
       "    </tr>\n",
       "    <tr>\n",
       "      <th>392765</th>\n",
       "      <td>Beauty</td>\n",
       "      <td>25723</td>\n",
       "      <td>5016866</td>\n",
       "      <td>{303617: 3, 63209: 0, 99720: 0, 113796: 0, 116...</td>\n",
       "    </tr>\n",
       "    <tr>\n",
       "      <th>392887</th>\n",
       "      <td>Beauty</td>\n",
       "      <td>6567</td>\n",
       "      <td>9147</td>\n",
       "      <td>{304051: 4, 100608: 0, 111481: 0, 208181: 0}</td>\n",
       "    </tr>\n",
       "    <tr>\n",
       "      <th>392946</th>\n",
       "      <td>Beauty</td>\n",
       "      <td>96867</td>\n",
       "      <td>5011839</td>\n",
       "      <td>{32812: 3.5, 42223: 3.5, 49297: 3.5, 108139: 3...</td>\n",
       "    </tr>\n",
       "    <tr>\n",
       "      <th>392947</th>\n",
       "      <td>Beauty</td>\n",
       "      <td>96867</td>\n",
       "      <td>5013452</td>\n",
       "      <td>{304529: 3, 32812: 0, 42223: 0, 49297: 0, 1081...</td>\n",
       "    </tr>\n",
       "  </tbody>\n",
       "</table>\n",
       "<p>50291 rows × 4 columns</p>\n",
       "</div>"
      ],
      "text/plain": [
       "       category  product_id  voter_id  \\\n",
       "124      Beauty       86969   6860317   \n",
       "125      Beauty       86969   5781064   \n",
       "126      Beauty       86969      5891   \n",
       "127      Beauty       86969   6772013   \n",
       "128      Beauty       86969   6023030   \n",
       "...         ...         ...       ...   \n",
       "392726   Beauty       48892   5001138   \n",
       "392765   Beauty       25723   5016866   \n",
       "392887   Beauty        6567      9147   \n",
       "392946   Beauty       96867   5011839   \n",
       "392947   Beauty       96867   5013452   \n",
       "\n",
       "                                                   y_true  \n",
       "124             {187: 3, 169291: 0, 175349: 0, 206266: 0}  \n",
       "125             {187: 3, 169291: 0, 175349: 0, 206266: 0}  \n",
       "126             {169291: 4, 187: 3, 175349: 0, 206266: 0}  \n",
       "127             {187: 3, 169291: 0, 175349: 0, 206266: 0}  \n",
       "128             {187: 4, 206266: 4, 169291: 0, 175349: 0}  \n",
       "...                                                   ...  \n",
       "392726       {303517: 3, 121404: 0, 238641: 0, 296833: 0}  \n",
       "392765  {303617: 3, 63209: 0, 99720: 0, 113796: 0, 116...  \n",
       "392887       {304051: 4, 100608: 0, 111481: 0, 208181: 0}  \n",
       "392946  {32812: 3.5, 42223: 3.5, 49297: 3.5, 108139: 3...  \n",
       "392947  {304529: 3, 32812: 0, 42223: 0, 49297: 0, 1081...  \n",
       "\n",
       "[50291 rows x 4 columns]"
      ]
     },
     "execution_count": 18,
     "metadata": {},
     "output_type": "execute_result"
    }
   ],
   "source": [
    "test_set = pd.read_csv('../csvs/test_set.csv', converters={'y_true': eval})\n",
    "test_set = test_set[test_set['category'] == 'Beauty']\n",
    "test_set"
   ]
  },
  {
   "cell_type": "code",
   "execution_count": 19,
   "id": "6d47cff5-a690-4651-9ead-a67b474858bf",
   "metadata": {},
   "outputs": [],
   "source": [
    "test_set['len'] = test_set['y_true'].apply(len)"
   ]
  },
  {
   "cell_type": "code",
   "execution_count": 23,
   "id": "fb0ded85-7174-44d7-98a9-70810ca0ecf9",
   "metadata": {},
   "outputs": [
    {
     "data": {
      "text/html": [
       "<div>\n",
       "<style scoped>\n",
       "    .dataframe tbody tr th:only-of-type {\n",
       "        vertical-align: middle;\n",
       "    }\n",
       "\n",
       "    .dataframe tbody tr th {\n",
       "        vertical-align: top;\n",
       "    }\n",
       "\n",
       "    .dataframe thead th {\n",
       "        text-align: right;\n",
       "    }\n",
       "</style>\n",
       "<table border=\"1\" class=\"dataframe\">\n",
       "  <thead>\n",
       "    <tr style=\"text-align: right;\">\n",
       "      <th></th>\n",
       "      <th>category</th>\n",
       "      <th>product_id</th>\n",
       "      <th>voter_id</th>\n",
       "      <th>y_true</th>\n",
       "      <th>len</th>\n",
       "    </tr>\n",
       "  </thead>\n",
       "  <tbody>\n",
       "    <tr>\n",
       "      <th>1613</th>\n",
       "      <td>Beauty</td>\n",
       "      <td>19812</td>\n",
       "      <td>5326499</td>\n",
       "      <td>{1274: 3, 24747: 0, 28306: 0, 51280: 0, 53543:...</td>\n",
       "      <td>33</td>\n",
       "    </tr>\n",
       "    <tr>\n",
       "      <th>1614</th>\n",
       "      <td>Beauty</td>\n",
       "      <td>19812</td>\n",
       "      <td>5584168</td>\n",
       "      <td>{166180: 4, 186301: 4, 290712: 4, 1274: 3, 210...</td>\n",
       "      <td>33</td>\n",
       "    </tr>\n",
       "    <tr>\n",
       "      <th>1615</th>\n",
       "      <td>Beauty</td>\n",
       "      <td>19812</td>\n",
       "      <td>5013640</td>\n",
       "      <td>{106397: 4, 181997: 4, 1274: 3, 24747: 0, 2830...</td>\n",
       "      <td>33</td>\n",
       "    </tr>\n",
       "    <tr>\n",
       "      <th>1616</th>\n",
       "      <td>Beauty</td>\n",
       "      <td>19812</td>\n",
       "      <td>5076524</td>\n",
       "      <td>{88377: 4, 102326: 4, 106397: 4, 107284: 4, 18...</td>\n",
       "      <td>33</td>\n",
       "    </tr>\n",
       "    <tr>\n",
       "      <th>1617</th>\n",
       "      <td>Beauty</td>\n",
       "      <td>19812</td>\n",
       "      <td>5285637</td>\n",
       "      <td>{1274: 4, 24747: 0, 28306: 0, 51280: 0, 53543:...</td>\n",
       "      <td>33</td>\n",
       "    </tr>\n",
       "    <tr>\n",
       "      <th>...</th>\n",
       "      <td>...</td>\n",
       "      <td>...</td>\n",
       "      <td>...</td>\n",
       "      <td>...</td>\n",
       "      <td>...</td>\n",
       "    </tr>\n",
       "    <tr>\n",
       "      <th>391280</th>\n",
       "      <td>Beauty</td>\n",
       "      <td>73855</td>\n",
       "      <td>23249</td>\n",
       "      <td>{16004: 3.5, 17159: 3.5, 47214: 3.5, 51070: 3....</td>\n",
       "      <td>32</td>\n",
       "    </tr>\n",
       "    <tr>\n",
       "      <th>391286</th>\n",
       "      <td>Beauty</td>\n",
       "      <td>77714</td>\n",
       "      <td>10438</td>\n",
       "      <td>{3283: 3.5, 19681: 3.5, 31946: 3.5, 81880: 3.5...</td>\n",
       "      <td>24</td>\n",
       "    </tr>\n",
       "    <tr>\n",
       "      <th>392390</th>\n",
       "      <td>Beauty</td>\n",
       "      <td>45706</td>\n",
       "      <td>15714</td>\n",
       "      <td>{302238: 4, 70530: 0, 85761: 0, 126396: 0, 155...</td>\n",
       "      <td>23</td>\n",
       "    </tr>\n",
       "    <tr>\n",
       "      <th>392946</th>\n",
       "      <td>Beauty</td>\n",
       "      <td>96867</td>\n",
       "      <td>5011839</td>\n",
       "      <td>{32812: 3.5, 42223: 3.5, 49297: 3.5, 108139: 3...</td>\n",
       "      <td>23</td>\n",
       "    </tr>\n",
       "    <tr>\n",
       "      <th>392947</th>\n",
       "      <td>Beauty</td>\n",
       "      <td>96867</td>\n",
       "      <td>5013452</td>\n",
       "      <td>{304529: 3, 32812: 0, 42223: 0, 49297: 0, 1081...</td>\n",
       "      <td>23</td>\n",
       "    </tr>\n",
       "  </tbody>\n",
       "</table>\n",
       "<p>4755 rows × 5 columns</p>\n",
       "</div>"
      ],
      "text/plain": [
       "       category  product_id  voter_id  \\\n",
       "1613     Beauty       19812   5326499   \n",
       "1614     Beauty       19812   5584168   \n",
       "1615     Beauty       19812   5013640   \n",
       "1616     Beauty       19812   5076524   \n",
       "1617     Beauty       19812   5285637   \n",
       "...         ...         ...       ...   \n",
       "391280   Beauty       73855     23249   \n",
       "391286   Beauty       77714     10438   \n",
       "392390   Beauty       45706     15714   \n",
       "392946   Beauty       96867   5011839   \n",
       "392947   Beauty       96867   5013452   \n",
       "\n",
       "                                                   y_true  len  \n",
       "1613    {1274: 3, 24747: 0, 28306: 0, 51280: 0, 53543:...   33  \n",
       "1614    {166180: 4, 186301: 4, 290712: 4, 1274: 3, 210...   33  \n",
       "1615    {106397: 4, 181997: 4, 1274: 3, 24747: 0, 2830...   33  \n",
       "1616    {88377: 4, 102326: 4, 106397: 4, 107284: 4, 18...   33  \n",
       "1617    {1274: 4, 24747: 0, 28306: 0, 51280: 0, 53543:...   33  \n",
       "...                                                   ...  ...  \n",
       "391280  {16004: 3.5, 17159: 3.5, 47214: 3.5, 51070: 3....   32  \n",
       "391286  {3283: 3.5, 19681: 3.5, 31946: 3.5, 81880: 3.5...   24  \n",
       "392390  {302238: 4, 70530: 0, 85761: 0, 126396: 0, 155...   23  \n",
       "392946  {32812: 3.5, 42223: 3.5, 49297: 3.5, 108139: 3...   23  \n",
       "392947  {304529: 3, 32812: 0, 42223: 0, 49297: 0, 1081...   23  \n",
       "\n",
       "[4755 rows x 5 columns]"
      ]
     },
     "execution_count": 23,
     "metadata": {},
     "output_type": "execute_result"
    }
   ],
   "source": [
    "test_set[(test_set['len'] > 20) & (test_set['len'] <= 50)]"
   ]
  },
  {
   "cell_type": "code",
   "execution_count": 153,
   "id": "17b3a180-de27-410e-9e21-1921533e0d26",
   "metadata": {},
   "outputs": [
    {
     "data": {
      "text/plain": [
       "count    26337.000000\n",
       "mean         4.374150\n",
       "std         28.250694\n",
       "min          0.000000\n",
       "25%          1.000000\n",
       "50%          1.000000\n",
       "75%          2.000000\n",
       "max        513.000000\n",
       "Name: y_true, dtype: float64"
      ]
     },
     "execution_count": 153,
     "metadata": {},
     "output_type": "execute_result"
    }
   ],
   "source": [
    "def calc_user_votes(y_true):\n",
    "    return len([i for i in y_true.values() if i not in [0, 3.5]])\n",
    "\n",
    "test_set['y_true'].apply(calc_user_votes).describe()"
   ]
  },
  {
   "cell_type": "code",
   "execution_count": 154,
   "id": "d544bd05-68bb-4d21-985e-daf86026b310",
   "metadata": {},
   "outputs": [],
   "source": [
    "test_set['votes_count'] = test_set['y_true'].apply(calc_user_votes)"
   ]
  },
  {
   "cell_type": "code",
   "execution_count": 158,
   "id": "bd349e8e-66a7-487c-a487-f95287a3f781",
   "metadata": {},
   "outputs": [
    {
     "data": {
      "text/plain": [
       "nDCG@5         0.798777\n",
       "MRR            0.752233\n",
       "Recall@1       0.202614\n",
       "Recall@3       0.335436\n",
       "Recall@5       0.362842\n",
       "Precision@1    0.607841\n",
       "Precision@3    0.335436\n",
       "Precision@5    0.217705\n",
       "Hit@1          0.607841\n",
       "Hit@3          0.960065\n",
       "Hit@5          0.999948\n",
       "dtype: float64"
      ]
     },
     "execution_count": 158,
     "metadata": {},
     "output_type": "execute_result"
    }
   ],
   "source": [
    "test_set[test_set['votes_count'] == 1].iloc[:, 7:-1].mean()"
   ]
  },
  {
   "cell_type": "code",
   "execution_count": 159,
   "id": "e52595f7-86b6-4f0c-af21-23d1a004d4ca",
   "metadata": {},
   "outputs": [
    {
     "data": {
      "text/plain": [
       "nDCG@5         0.858849\n",
       "MRR            0.496495\n",
       "Recall@1       0.247764\n",
       "Recall@3       0.645892\n",
       "Recall@5       0.848752\n",
       "Precision@1    0.743292\n",
       "Precision@3    0.645892\n",
       "Precision@5    0.509251\n",
       "Hit@1          0.743292\n",
       "Hit@3          0.981274\n",
       "Hit@5          1.000000\n",
       "dtype: float64"
      ]
     },
     "execution_count": 159,
     "metadata": {},
     "output_type": "execute_result"
    }
   ],
   "source": [
    "test_set[test_set['votes_count'] != 1].iloc[:, 7:-1].mean()"
   ]
  },
  {
   "cell_type": "code",
   "execution_count": 137,
   "id": "06d0801d-7486-4656-89b1-76ca824a5099",
   "metadata": {},
   "outputs": [],
   "source": [
    "test_set['y'] = predictions['y'].tolist()\n",
    "test_set['rank'] = predictions['rank'].tolist()"
   ]
  },
  {
   "cell_type": "code",
   "execution_count": 119,
   "id": "690abab3-e76a-4e96-bf4f-6bc438e9baa8",
   "metadata": {},
   "outputs": [
    {
     "data": {
      "text/plain": [
       "y                                                   [4, 4, 3, 0]\n",
       "scores         [0.88671875, 0.7421875, 0.50390625, 0.41601562...\n",
       "rank           [8, 4, 0, 1, 11, 2, 3, 16, 17, 13, 5, 6, 15, 1...\n",
       "nDCG@5                                                       1.0\n",
       "MRR                                                     0.611111\n",
       "Recall@1                                                0.333333\n",
       "Recall@3                                                     1.0\n",
       "Recall@5                                                     1.0\n",
       "Precision@1                                                  1.0\n",
       "Precision@3                                                  1.0\n",
       "Precision@5                                                  0.6\n",
       "Hit@1                                                          1\n",
       "Hit@3                                                          1\n",
       "Hit@5                                                          1\n",
       "Name: 3, dtype: object"
      ]
     },
     "execution_count": 119,
     "metadata": {},
     "output_type": "execute_result"
    }
   ],
   "source": [
    "predictions.iloc[3]"
   ]
  },
  {
   "cell_type": "code",
   "execution_count": 127,
   "id": "213c7217-6299-4d54-9006-07b4c95b6da2",
   "metadata": {},
   "outputs": [
    {
     "data": {
      "text/plain": [
       "[8, 4, 0, 1, 11, 2, 3, 16, 17, 13, 5, 6, 15, 19, 18, 12, 14, 7, 9, 10]"
      ]
     },
     "execution_count": 127,
     "metadata": {},
     "output_type": "execute_result"
    }
   ],
   "source": [
    "y_true = list(test_set.iloc[3]['y_true'].values())\n",
    "y = predictions.iloc[3]['y']\n",
    "rank = predictions.iloc[3]['rank']\n",
    "# rank = [r for r in rank if r < len(y)]\n",
    "rank"
   ]
  },
  {
   "cell_type": "code",
   "execution_count": 125,
   "id": "0161fc49-b853-4450-a01d-2874fdf4a2df",
   "metadata": {},
   "outputs": [
    {
     "data": {
      "text/plain": [
       "[4, 4, 3, 0]"
      ]
     },
     "execution_count": 125,
     "metadata": {},
     "output_type": "execute_result"
    }
   ],
   "source": [
    "y_true"
   ]
  },
  {
   "cell_type": "code",
   "execution_count": 140,
   "id": "ee6bbd5f-d9cd-4003-9502-07cd4fcce6e4",
   "metadata": {},
   "outputs": [
    {
     "name": "stderr",
     "output_type": "stream",
     "text": [
      "100%|██████████| 26337/26337 [00:00<00:00, 32595.95it/s]\n"
     ]
    }
   ],
   "source": [
    "def get_ranked_list(rank, y_true):\n",
    "    ranked_list = []\n",
    "    for r in rank:\n",
    "        if r < len(y_true):\n",
    "            ranked_list.append(y_true[r])\n",
    "        else:\n",
    "            ranked_list.append(-1)\n",
    "            \n",
    "    return ranked_list\n",
    "\n",
    "test_set['ranked_list'] = test_set.progress_apply(\n",
    "    lambda r: get_ranked_list(r['rank'], list(r['y_true'].values())), axis=1\n",
    ")"
   ]
  },
  {
   "cell_type": "code",
   "execution_count": 141,
   "id": "1b3ce19e-7cb0-472a-bc4f-1769422c00ec",
   "metadata": {},
   "outputs": [
    {
     "data": {
      "text/html": [
       "<div>\n",
       "<style scoped>\n",
       "    .dataframe tbody tr th:only-of-type {\n",
       "        vertical-align: middle;\n",
       "    }\n",
       "\n",
       "    .dataframe tbody tr th {\n",
       "        vertical-align: top;\n",
       "    }\n",
       "\n",
       "    .dataframe thead th {\n",
       "        text-align: right;\n",
       "    }\n",
       "</style>\n",
       "<table border=\"1\" class=\"dataframe\">\n",
       "  <thead>\n",
       "    <tr style=\"text-align: right;\">\n",
       "      <th></th>\n",
       "      <th>category</th>\n",
       "      <th>product_id</th>\n",
       "      <th>voter_id</th>\n",
       "      <th>y_true</th>\n",
       "      <th>y</th>\n",
       "      <th>rank</th>\n",
       "      <th>ranked_list</th>\n",
       "    </tr>\n",
       "  </thead>\n",
       "  <tbody>\n",
       "    <tr>\n",
       "      <th>2103</th>\n",
       "      <td>Internet</td>\n",
       "      <td>106745</td>\n",
       "      <td>5242671</td>\n",
       "      <td>{1370: 3, 113671: 0, 154395: 0, 265008: 0}</td>\n",
       "      <td>[3, 0, 0, 0]</td>\n",
       "      <td>[0, 2, 1, 3, 4, 5, 8, 6, 19, 15, 18, 11, 12, 1...</td>\n",
       "      <td>[3, 0, 0, 0, -1, -1, -1, -1, -1, -1, -1, -1, -...</td>\n",
       "    </tr>\n",
       "    <tr>\n",
       "      <th>2104</th>\n",
       "      <td>Internet</td>\n",
       "      <td>106745</td>\n",
       "      <td>5203171</td>\n",
       "      <td>{113671: 4, 1370: 3, 154395: 0, 265008: 0}</td>\n",
       "      <td>[4, 0, 0, 3]</td>\n",
       "      <td>[0, 2, 3, 1, 4, 14, 8, 11, 5, 6, 12, 18, 13, 1...</td>\n",
       "      <td>[4, 0, 0, 3, -1, -1, -1, -1, -1, -1, -1, -1, -...</td>\n",
       "    </tr>\n",
       "    <tr>\n",
       "      <th>2105</th>\n",
       "      <td>Internet</td>\n",
       "      <td>106745</td>\n",
       "      <td>5498542</td>\n",
       "      <td>{1370: 3, 113671: 0, 154395: 0, 265008: 0}</td>\n",
       "      <td>[3, 0, 0, 0]</td>\n",
       "      <td>[0, 2, 1, 4, 3, 16, 5, 8, 15, 12, 11, 6, 14, 1...</td>\n",
       "      <td>[3, 0, 0, -1, 0, -1, -1, -1, -1, -1, -1, -1, -...</td>\n",
       "    </tr>\n",
       "    <tr>\n",
       "      <th>2106</th>\n",
       "      <td>Internet</td>\n",
       "      <td>106745</td>\n",
       "      <td>9444</td>\n",
       "      <td>{113671: 4, 154395: 4, 1370: 3, 265008: 0}</td>\n",
       "      <td>[4, 4, 3, 0]</td>\n",
       "      <td>[8, 4, 0, 1, 11, 2, 3, 16, 17, 13, 5, 6, 15, 1...</td>\n",
       "      <td>[-1, -1, 4, 4, -1, 3, 0, -1, -1, -1, -1, -1, -...</td>\n",
       "    </tr>\n",
       "    <tr>\n",
       "      <th>2107</th>\n",
       "      <td>Internet</td>\n",
       "      <td>106745</td>\n",
       "      <td>5373705</td>\n",
       "      <td>{1370: 3, 113671: 0, 154395: 0, 265008: 0}</td>\n",
       "      <td>[3, 0, 0, 0]</td>\n",
       "      <td>[4, 8, 0, 17, 2, 3, 16, 13, 1, 11, 18, 6, 15, ...</td>\n",
       "      <td>[-1, -1, 3, -1, 0, 0, -1, -1, 0, -1, -1, -1, -...</td>\n",
       "    </tr>\n",
       "    <tr>\n",
       "      <th>...</th>\n",
       "      <td>...</td>\n",
       "      <td>...</td>\n",
       "      <td>...</td>\n",
       "      <td>...</td>\n",
       "      <td>...</td>\n",
       "      <td>...</td>\n",
       "      <td>...</td>\n",
       "    </tr>\n",
       "    <tr>\n",
       "      <th>392854</th>\n",
       "      <td>Internet</td>\n",
       "      <td>107002</td>\n",
       "      <td>5002576</td>\n",
       "      <td>{3733: 3.5, 23237: 3.5, 100725: 3.5, 122813: 3...</td>\n",
       "      <td>[3.5, 3.5, 3.5, 3.5, 3.5, 3.5, 3.5, 3.5, 3.5, ...</td>\n",
       "      <td>[0, 1, 3, 2, 4, 5, 6, 7, 8, 12, 15, 14, 13, 18...</td>\n",
       "      <td>[3.5, 3.5, 3.5, 3.5, 3.5, 3.5, 3.5, 3.5, 3.5, ...</td>\n",
       "    </tr>\n",
       "    <tr>\n",
       "      <th>392867</th>\n",
       "      <td>Internet</td>\n",
       "      <td>51225</td>\n",
       "      <td>5011839</td>\n",
       "      <td>{303943: 4, 110003: 0, 120510: 0, 149249: 0, 1...</td>\n",
       "      <td>[4, 0, 0, 0, 0, 0, 0, 0, 0, 0, 0, 0]</td>\n",
       "      <td>[0, 4, 2, 1, 3, 5, 9, 6, 11, 8, 16, 14, 7, 15,...</td>\n",
       "      <td>[4, 0, 0, 0, 0, 0, 0, 0, 0, 0, -1, -1, 0, -1, ...</td>\n",
       "    </tr>\n",
       "    <tr>\n",
       "      <th>392871</th>\n",
       "      <td>Internet</td>\n",
       "      <td>33471</td>\n",
       "      <td>15714</td>\n",
       "      <td>{61682: 3.5, 109248: 3.5, 111861: 3.5, 152572:...</td>\n",
       "      <td>[3.5, 3.5, 3.5, 3.5, 3.5, 3.5, 3.5, 3.5, 3.5, ...</td>\n",
       "      <td>[2, 8, 4, 0, 17, 3, 16, 11, 12, 18, 1, 13, 6, ...</td>\n",
       "      <td>[3.5, 3.5, 3.5, 3.5, 3.5, 3.5, 3.5, 3.5, 3.5, ...</td>\n",
       "    </tr>\n",
       "    <tr>\n",
       "      <th>392878</th>\n",
       "      <td>Internet</td>\n",
       "      <td>14177</td>\n",
       "      <td>13861</td>\n",
       "      <td>{303972: 4, 149155: 0, 238292: 0, 279891: 0, 2...</td>\n",
       "      <td>[4, 0, 0, 0, 0, 0]</td>\n",
       "      <td>[0, 1, 2, 18, 3, 4, 19, 15, 14, 11, 6, 5, 17, ...</td>\n",
       "      <td>[4, 0, 0, -1, 0, 0, -1, -1, -1, -1, -1, 0, -1,...</td>\n",
       "    </tr>\n",
       "    <tr>\n",
       "      <th>392881</th>\n",
       "      <td>Internet</td>\n",
       "      <td>108387</td>\n",
       "      <td>2628</td>\n",
       "      <td>{161391: 3.5, 243942: 3.5, 257506: 3.5, 264578...</td>\n",
       "      <td>[3.5, 3.5, 3.5, 3.5, 3.5, 2.0, 3.5]</td>\n",
       "      <td>[0, 1, 2, 3, 4, 6, 5, 14, 18, 15, 16, 7, 8, 11...</td>\n",
       "      <td>[3.5, 3.5, 3.5, 3.5, 3.5, 2, 3.5, -1, -1, -1, ...</td>\n",
       "    </tr>\n",
       "  </tbody>\n",
       "</table>\n",
       "<p>26337 rows × 7 columns</p>\n",
       "</div>"
      ],
      "text/plain": [
       "        category  product_id  voter_id  \\\n",
       "2103    Internet      106745   5242671   \n",
       "2104    Internet      106745   5203171   \n",
       "2105    Internet      106745   5498542   \n",
       "2106    Internet      106745      9444   \n",
       "2107    Internet      106745   5373705   \n",
       "...          ...         ...       ...   \n",
       "392854  Internet      107002   5002576   \n",
       "392867  Internet       51225   5011839   \n",
       "392871  Internet       33471     15714   \n",
       "392878  Internet       14177     13861   \n",
       "392881  Internet      108387      2628   \n",
       "\n",
       "                                                   y_true  \\\n",
       "2103           {1370: 3, 113671: 0, 154395: 0, 265008: 0}   \n",
       "2104           {113671: 4, 1370: 3, 154395: 0, 265008: 0}   \n",
       "2105           {1370: 3, 113671: 0, 154395: 0, 265008: 0}   \n",
       "2106           {113671: 4, 154395: 4, 1370: 3, 265008: 0}   \n",
       "2107           {1370: 3, 113671: 0, 154395: 0, 265008: 0}   \n",
       "...                                                   ...   \n",
       "392854  {3733: 3.5, 23237: 3.5, 100725: 3.5, 122813: 3...   \n",
       "392867  {303943: 4, 110003: 0, 120510: 0, 149249: 0, 1...   \n",
       "392871  {61682: 3.5, 109248: 3.5, 111861: 3.5, 152572:...   \n",
       "392878  {303972: 4, 149155: 0, 238292: 0, 279891: 0, 2...   \n",
       "392881  {161391: 3.5, 243942: 3.5, 257506: 3.5, 264578...   \n",
       "\n",
       "                                                        y  \\\n",
       "2103                                         [3, 0, 0, 0]   \n",
       "2104                                         [4, 0, 0, 3]   \n",
       "2105                                         [3, 0, 0, 0]   \n",
       "2106                                         [4, 4, 3, 0]   \n",
       "2107                                         [3, 0, 0, 0]   \n",
       "...                                                   ...   \n",
       "392854  [3.5, 3.5, 3.5, 3.5, 3.5, 3.5, 3.5, 3.5, 3.5, ...   \n",
       "392867               [4, 0, 0, 0, 0, 0, 0, 0, 0, 0, 0, 0]   \n",
       "392871  [3.5, 3.5, 3.5, 3.5, 3.5, 3.5, 3.5, 3.5, 3.5, ...   \n",
       "392878                                 [4, 0, 0, 0, 0, 0]   \n",
       "392881                [3.5, 3.5, 3.5, 3.5, 3.5, 2.0, 3.5]   \n",
       "\n",
       "                                                     rank  \\\n",
       "2103    [0, 2, 1, 3, 4, 5, 8, 6, 19, 15, 18, 11, 12, 1...   \n",
       "2104    [0, 2, 3, 1, 4, 14, 8, 11, 5, 6, 12, 18, 13, 1...   \n",
       "2105    [0, 2, 1, 4, 3, 16, 5, 8, 15, 12, 11, 6, 14, 1...   \n",
       "2106    [8, 4, 0, 1, 11, 2, 3, 16, 17, 13, 5, 6, 15, 1...   \n",
       "2107    [4, 8, 0, 17, 2, 3, 16, 13, 1, 11, 18, 6, 15, ...   \n",
       "...                                                   ...   \n",
       "392854  [0, 1, 3, 2, 4, 5, 6, 7, 8, 12, 15, 14, 13, 18...   \n",
       "392867  [0, 4, 2, 1, 3, 5, 9, 6, 11, 8, 16, 14, 7, 15,...   \n",
       "392871  [2, 8, 4, 0, 17, 3, 16, 11, 12, 18, 1, 13, 6, ...   \n",
       "392878  [0, 1, 2, 18, 3, 4, 19, 15, 14, 11, 6, 5, 17, ...   \n",
       "392881  [0, 1, 2, 3, 4, 6, 5, 14, 18, 15, 16, 7, 8, 11...   \n",
       "\n",
       "                                              ranked_list  \n",
       "2103    [3, 0, 0, 0, -1, -1, -1, -1, -1, -1, -1, -1, -...  \n",
       "2104    [4, 0, 0, 3, -1, -1, -1, -1, -1, -1, -1, -1, -...  \n",
       "2105    [3, 0, 0, -1, 0, -1, -1, -1, -1, -1, -1, -1, -...  \n",
       "2106    [-1, -1, 4, 4, -1, 3, 0, -1, -1, -1, -1, -1, -...  \n",
       "2107    [-1, -1, 3, -1, 0, 0, -1, -1, 0, -1, -1, -1, -...  \n",
       "...                                                   ...  \n",
       "392854  [3.5, 3.5, 3.5, 3.5, 3.5, 3.5, 3.5, 3.5, 3.5, ...  \n",
       "392867  [4, 0, 0, 0, 0, 0, 0, 0, 0, 0, -1, -1, 0, -1, ...  \n",
       "392871  [3.5, 3.5, 3.5, 3.5, 3.5, 3.5, 3.5, 3.5, 3.5, ...  \n",
       "392878  [4, 0, 0, -1, 0, 0, -1, -1, -1, -1, -1, 0, -1,...  \n",
       "392881  [3.5, 3.5, 3.5, 3.5, 3.5, 2, 3.5, -1, -1, -1, ...  \n",
       "\n",
       "[26337 rows x 7 columns]"
      ]
     },
     "execution_count": 141,
     "metadata": {},
     "output_type": "execute_result"
    }
   ],
   "source": [
    "test_set"
   ]
  },
  {
   "cell_type": "code",
   "execution_count": 143,
   "id": "619f1a2d-0f53-48e8-880b-941c008e3113",
   "metadata": {},
   "outputs": [],
   "source": [
    "test_set['nDCG@5'] = test_set.apply(lambda x: calc_ndcg(x['ranked_list'][:5]), axis=1)\n",
    "test_set['MRR'] = test_set.apply(lambda x: calc_mrr(x['ranked_list']), axis=1)\n",
    "test_set['Recall@1'] = test_set.apply(lambda x: calc_recall_at_k(x['ranked_list'], k=1), axis=1)\n",
    "test_set['Recall@3'] = test_set.apply(lambda x: calc_recall_at_k(x['ranked_list'], k=3), axis=1)\n",
    "test_set['Recall@5'] = test_set.apply(lambda x: calc_recall_at_k(x['ranked_list'], k=5), axis=1)\n",
    "test_set['Precision@1'] = test_set.apply(lambda x: calc_precision_at_k(x['ranked_list'], k=1), axis=1)\n",
    "test_set['Precision@3'] = test_set.apply(lambda x: calc_precision_at_k(x['ranked_list'], k=3), axis=1)\n",
    "test_set['Precision@5'] = test_set.apply(lambda x: calc_precision_at_k(x['ranked_list'], k=5), axis=1)\n",
    "test_set['Hit@1'] = test_set.apply(lambda x: calc_hit_at_k(x['ranked_list'], k=1), axis=1)\n",
    "test_set['Hit@3'] = test_set.apply(lambda x: calc_hit_at_k(x['ranked_list'], k=3), axis=1)\n",
    "test_set['Hit@5'] = test_set.apply(lambda x: calc_hit_at_k(x['ranked_list'], k=5), axis=1)"
   ]
  },
  {
   "cell_type": "code",
   "execution_count": 146,
   "id": "07f07337-c951-4b2e-af33-2cde32578f5e",
   "metadata": {},
   "outputs": [
    {
     "data": {
      "text/plain": [
       "nDCG@5         0.815099\n",
       "MRR            0.682747\n",
       "Recall@1       0.214881\n",
       "Recall@3       0.419790\n",
       "Recall@5       0.494868\n",
       "Precision@1    0.644644\n",
       "Precision@3    0.419790\n",
       "Precision@5    0.296921\n",
       "Hit@1          0.644644\n",
       "Hit@3          0.965828\n",
       "Hit@5          0.999962\n",
       "dtype: float64"
      ]
     },
     "execution_count": 146,
     "metadata": {},
     "output_type": "execute_result"
    }
   ],
   "source": [
    "test_set.iloc[:, 7:].mean()"
   ]
  },
  {
   "cell_type": "code",
   "execution_count": null,
   "id": "603108d4-7e81-4603-ba7d-c5b796cbf842",
   "metadata": {},
   "outputs": [],
   "source": []
  },
  {
   "cell_type": "code",
   "execution_count": 3,
   "id": "fda645bd-3449-40ef-ac71-877c8af1db20",
   "metadata": {
    "scrolled": true
   },
   "outputs": [],
   "source": [
    "eval_df = pd.read_csv('/sise/bshapira-group/lilachzi/models/LlamaRec/experiments/random_full/ciaoGames_like_test4/eval_predictions_2024_04_08_06_17.csv')"
   ]
  },
  {
   "cell_type": "code",
   "execution_count": 9,
   "id": "4c83a540-1a7a-40ec-b917-0c97eee84c53",
   "metadata": {},
   "outputs": [],
   "source": [
    "eval_df = eval_df.dropna()"
   ]
  },
  {
   "cell_type": "code",
   "execution_count": 20,
   "id": "b954866e-4c55-4a1e-811a-b42683bbfeca",
   "metadata": {},
   "outputs": [
    {
     "name": "stderr",
     "output_type": "stream",
     "text": [
      "/tmp/ipykernel_1875919/415502483.py:1: SettingWithCopyWarning: \n",
      "A value is trying to be set on a copy of a slice from a DataFrame.\n",
      "Try using .loc[row_indexer,col_indexer] = value instead\n",
      "\n",
      "See the caveats in the documentation: https://pandas.pydata.org/pandas-docs/stable/user_guide/indexing.html#returning-a-view-versus-a-copy\n",
      "  eval_df['len'] = eval_df['y'].apply(lambda l: len(eval(l)))\n"
     ]
    }
   ],
   "source": [
    "eval_df['len'] = eval_df['y'].apply(lambda l: len(eval(l)))"
   ]
  },
  {
   "cell_type": "code",
   "execution_count": 21,
   "id": "372961d9-14b8-4336-908f-659e8ced04f2",
   "metadata": {},
   "outputs": [
    {
     "data": {
      "text/plain": [
       "nDCG@5         0.190441\n",
       "MRR            0.107488\n",
       "Recall@1       0.026518\n",
       "Recall@3       0.077184\n",
       "Recall@5       0.127479\n",
       "Precision@1    0.081089\n",
       "Precision@3    0.081878\n",
       "Precision@5    0.081740\n",
       "Hit@1          0.081089\n",
       "Hit@3          0.156851\n",
       "Hit@5          0.223439\n",
       "dtype: float64"
      ]
     },
     "execution_count": 21,
     "metadata": {},
     "output_type": "execute_result"
    }
   ],
   "source": [
    "eval_df[eval_df['len'] > 20].iloc[:, 2:-1].mean()"
   ]
  },
  {
   "cell_type": "code",
   "execution_count": 22,
   "id": "8c026b52-2370-477e-8e3e-0712f38ad748",
   "metadata": {},
   "outputs": [
    {
     "data": {
      "text/plain": [
       "nDCG@5         0.478796\n",
       "MRR            0.366436\n",
       "Recall@1       0.150337\n",
       "Recall@3       0.440919\n",
       "Recall@5       0.692633\n",
       "Precision@1    0.204042\n",
       "Precision@3    0.200929\n",
       "Precision@5    0.190692\n",
       "Hit@1          0.204042\n",
       "Hit@3          0.507609\n",
       "Hit@5          0.738707\n",
       "dtype: float64"
      ]
     },
     "execution_count": 22,
     "metadata": {},
     "output_type": "execute_result"
    }
   ],
   "source": [
    "eval_df[eval_df['len'] <= 20].iloc[:, 2:-1].mean()"
   ]
  },
  {
   "cell_type": "code",
   "execution_count": 23,
   "id": "7dd3f5c5-044e-4511-9187-defda79733ba",
   "metadata": {},
   "outputs": [
    {
     "data": {
      "text/plain": [
       "(3379, 12419)"
      ]
     },
     "execution_count": 23,
     "metadata": {},
     "output_type": "execute_result"
    }
   ],
   "source": [
    "len(eval_df[eval_df['len'] > 20]), len(eval_df[eval_df['len'] <= 20])"
   ]
  },
  {
   "cell_type": "code",
   "execution_count": null,
   "id": "3a03983d-88cb-4de5-aa48-6dff27d87820",
   "metadata": {},
   "outputs": [],
   "source": []
  },
  {
   "cell_type": "code",
   "execution_count": 39,
   "id": "142f218f-6246-467c-b54d-99da1bccadf5",
   "metadata": {},
   "outputs": [],
   "source": [
    "# eval_df = pd.read_csv('/sise/bshapira-group/lilachzi/models/LlamaRec/experiments/random_full/ciaoGames_like_test4/eval_predictions_2024_04_08_06_17.csv')\n",
    "eval_df = pd.read_csv('/sise/bshapira-group/lilachzi/models/LlamaRec/experiments/random_full/ciaoGames_like_test5/eval_predictions_2024_04_08_15_21.csv')"
   ]
  },
  {
   "cell_type": "code",
   "execution_count": 40,
   "id": "a262f76d-8523-4b0c-b743-2fc12d83327c",
   "metadata": {},
   "outputs": [],
   "source": [
    "eval_df = eval_df.dropna()"
   ]
  },
  {
   "cell_type": "code",
   "execution_count": 41,
   "id": "0fa31ed3-cddf-44b3-8c68-a1b0953b1845",
   "metadata": {},
   "outputs": [],
   "source": [
    "eval_df['len'] = eval_df['y'].apply(lambda l: len(eval(l)))"
   ]
  },
  {
   "cell_type": "code",
   "execution_count": 42,
   "id": "6aab1d28-2907-4ab5-9dc8-80086e28d969",
   "metadata": {},
   "outputs": [
    {
     "data": {
      "text/plain": [
       "nDCG@5         0.191395\n",
       "MRR            0.106994\n",
       "Recall@1       0.027948\n",
       "Recall@3       0.073985\n",
       "Recall@5       0.127596\n",
       "Precision@1    0.086120\n",
       "Precision@3    0.080201\n",
       "Precision@5    0.081563\n",
       "Hit@1          0.086120\n",
       "Hit@3          0.150932\n",
       "Hit@5          0.221959\n",
       "dtype: float64"
      ]
     },
     "execution_count": 42,
     "metadata": {},
     "output_type": "execute_result"
    }
   ],
   "source": [
    "eval_df[eval_df['len'] > 20].iloc[:, 2:-1].mean()"
   ]
  },
  {
   "cell_type": "code",
   "execution_count": 43,
   "id": "a7584e09-62e0-4d28-a038-365711b49ce6",
   "metadata": {},
   "outputs": [
    {
     "data": {
      "text/plain": [
       "nDCG@5         0.480340\n",
       "MRR            0.365606\n",
       "Recall@1       0.145120\n",
       "Recall@3       0.445426\n",
       "Recall@5       0.698128\n",
       "Precision@1    0.198567\n",
       "Precision@3    0.202405\n",
       "Precision@5    0.192318\n",
       "Hit@1          0.198567\n",
       "Hit@3          0.512119\n",
       "Hit@5          0.744102\n",
       "dtype: float64"
      ]
     },
     "execution_count": 43,
     "metadata": {},
     "output_type": "execute_result"
    }
   ],
   "source": [
    "eval_df[eval_df['len'] <= 20].iloc[:, 2:-1].mean()"
   ]
  },
  {
   "cell_type": "code",
   "execution_count": 44,
   "id": "02fe1ec7-feec-420e-b0fc-5acf152e7023",
   "metadata": {},
   "outputs": [
    {
     "data": {
      "text/plain": [
       "(3379, 12419)"
      ]
     },
     "execution_count": 44,
     "metadata": {},
     "output_type": "execute_result"
    }
   ],
   "source": [
    "len(eval_df[eval_df['len'] > 20]), len(eval_df[eval_df['len'] <= 20])"
   ]
  },
  {
   "cell_type": "code",
   "execution_count": 45,
   "id": "2d0d8a3b-57e1-4ca6-bdf4-7f5538f5a14b",
   "metadata": {},
   "outputs": [
    {
     "data": {
      "text/plain": [
       "nDCG@5         0.418538\n",
       "MRR            0.310292\n",
       "Recall@1       0.120059\n",
       "Recall@3       0.365979\n",
       "Recall@5       0.576098\n",
       "Precision@1    0.174516\n",
       "Precision@3    0.176267\n",
       "Precision@5    0.168629\n",
       "Hit@1          0.174516\n",
       "Hit@3          0.434865\n",
       "Hit@5          0.632422\n",
       "dtype: float64"
      ]
     },
     "execution_count": 45,
     "metadata": {},
     "output_type": "execute_result"
    }
   ],
   "source": [
    "eval_df.iloc[:, 2:-1].mean()"
   ]
  },
  {
   "cell_type": "code",
   "execution_count": null,
   "id": "7522a8f8-8075-4f2d-b232-68bd2ed1809b",
   "metadata": {},
   "outputs": [],
   "source": []
  },
  {
   "cell_type": "code",
   "execution_count": 54,
   "id": "dff94800-bf62-4501-81f6-b7fb063658b3",
   "metadata": {},
   "outputs": [],
   "source": [
    "df = pd.read_csv('/sise/bshapira-group/lilachzi/models/LlamaRec/experiments/random_full/ciaoGames_like_test4/predictions.csv')"
   ]
  },
  {
   "cell_type": "code",
   "execution_count": 57,
   "id": "f0af72f8-cd22-428a-878b-9345561c9da1",
   "metadata": {},
   "outputs": [
    {
     "data": {
      "text/html": [
       "<div>\n",
       "<style scoped>\n",
       "    .dataframe tbody tr th:only-of-type {\n",
       "        vertical-align: middle;\n",
       "    }\n",
       "\n",
       "    .dataframe tbody tr th {\n",
       "        vertical-align: top;\n",
       "    }\n",
       "\n",
       "    .dataframe thead th {\n",
       "        text-align: right;\n",
       "    }\n",
       "</style>\n",
       "<table border=\"1\" class=\"dataframe\">\n",
       "  <thead>\n",
       "    <tr style=\"text-align: right;\">\n",
       "      <th></th>\n",
       "      <th>y</th>\n",
       "      <th>rank</th>\n",
       "      <th>nDCG@5</th>\n",
       "      <th>MRR</th>\n",
       "      <th>Recall@1</th>\n",
       "      <th>Recall@3</th>\n",
       "      <th>Recall@5</th>\n",
       "      <th>Precision@1</th>\n",
       "      <th>Precision@3</th>\n",
       "      <th>Precision@5</th>\n",
       "      <th>Hit@1</th>\n",
       "      <th>Hit@3</th>\n",
       "      <th>Hit@5</th>\n",
       "    </tr>\n",
       "  </thead>\n",
       "  <tbody>\n",
       "    <tr>\n",
       "      <th>0</th>\n",
       "      <td>[0, 0, 4, 0, 4, 0]</td>\n",
       "      <td>tensor([ 0,  1,  3,  4,  2,  5, -1, -1, -1, -1...</td>\n",
       "      <td>0.543771</td>\n",
       "      <td>0.266667</td>\n",
       "      <td>0.0</td>\n",
       "      <td>0.5</td>\n",
       "      <td>1.0</td>\n",
       "      <td>0.0</td>\n",
       "      <td>0.333333</td>\n",
       "      <td>0.4</td>\n",
       "      <td>0</td>\n",
       "      <td>1</td>\n",
       "      <td>1</td>\n",
       "    </tr>\n",
       "    <tr>\n",
       "      <th>1</th>\n",
       "      <td>[4, 0, 0, 0, 0, 0, 3, 0, 0, 0, 0, 0, 0, 0, 0]</td>\n",
       "      <td>tensor([ 8,  9,  0, 10,  4,  1,  3,  2,  5, 12...</td>\n",
       "      <td>1.000000</td>\n",
       "      <td>0.571429</td>\n",
       "      <td>0.5</td>\n",
       "      <td>0.5</td>\n",
       "      <td>0.5</td>\n",
       "      <td>1.0</td>\n",
       "      <td>0.333333</td>\n",
       "      <td>0.2</td>\n",
       "      <td>1</td>\n",
       "      <td>1</td>\n",
       "      <td>1</td>\n",
       "    </tr>\n",
       "    <tr>\n",
       "      <th>2</th>\n",
       "      <td>[0, 0, 0, 3, 0, 0, 0, 0, 0, 0, 0, 0, 0, 0, 0, ...</td>\n",
       "      <td>tensor([16, 36,  9, 48, 49, 29,  8, 28, 40, 50...</td>\n",
       "      <td>0.430677</td>\n",
       "      <td>0.250000</td>\n",
       "      <td>0.0</td>\n",
       "      <td>0.0</td>\n",
       "      <td>1.0</td>\n",
       "      <td>0.0</td>\n",
       "      <td>0.000000</td>\n",
       "      <td>0.2</td>\n",
       "      <td>0</td>\n",
       "      <td>0</td>\n",
       "      <td>1</td>\n",
       "    </tr>\n",
       "    <tr>\n",
       "      <th>3</th>\n",
       "      <td>[0, 0, 0, 0, 0, 3, 0]</td>\n",
       "      <td>tensor([ 0,  4,  1,  3,  5,  6,  2, -1, -1, -1...</td>\n",
       "      <td>0.000000</td>\n",
       "      <td>0.166667</td>\n",
       "      <td>0.0</td>\n",
       "      <td>0.0</td>\n",
       "      <td>0.0</td>\n",
       "      <td>0.0</td>\n",
       "      <td>0.000000</td>\n",
       "      <td>0.0</td>\n",
       "      <td>0</td>\n",
       "      <td>0</td>\n",
       "      <td>0</td>\n",
       "    </tr>\n",
       "    <tr>\n",
       "      <th>4</th>\n",
       "      <td>[0, 0, 0, 0, 4, 0, 0, 0, 0, 0, 0, 0, 0, 0, 0, ...</td>\n",
       "      <td>tensor([ 8, 16,  9,  0,  1,  2,  3,  5, 12, 10...</td>\n",
       "      <td>0.386853</td>\n",
       "      <td>0.200000</td>\n",
       "      <td>0.0</td>\n",
       "      <td>0.0</td>\n",
       "      <td>1.0</td>\n",
       "      <td>0.0</td>\n",
       "      <td>0.000000</td>\n",
       "      <td>0.2</td>\n",
       "      <td>0</td>\n",
       "      <td>0</td>\n",
       "      <td>1</td>\n",
       "    </tr>\n",
       "    <tr>\n",
       "      <th>...</th>\n",
       "      <td>...</td>\n",
       "      <td>...</td>\n",
       "      <td>...</td>\n",
       "      <td>...</td>\n",
       "      <td>...</td>\n",
       "      <td>...</td>\n",
       "      <td>...</td>\n",
       "      <td>...</td>\n",
       "      <td>...</td>\n",
       "      <td>...</td>\n",
       "      <td>...</td>\n",
       "      <td>...</td>\n",
       "      <td>...</td>\n",
       "    </tr>\n",
       "    <tr>\n",
       "      <th>15760</th>\n",
       "      <td>[0, 0, 0, 0, 0, 4, 0, 0, 0, 0, 0]</td>\n",
       "      <td>tensor([-1,  9,  8,  0,  1,  2, -1, 10,  5,  4...</td>\n",
       "      <td>0.000000</td>\n",
       "      <td>0.166667</td>\n",
       "      <td>0.0</td>\n",
       "      <td>0.0</td>\n",
       "      <td>0.0</td>\n",
       "      <td>0.0</td>\n",
       "      <td>0.000000</td>\n",
       "      <td>0.0</td>\n",
       "      <td>0</td>\n",
       "      <td>0</td>\n",
       "      <td>0</td>\n",
       "    </tr>\n",
       "    <tr>\n",
       "      <th>15761</th>\n",
       "      <td>[0, 0, 0, 0, 0, 0, 0, 0, 0, 0, 0, 0, 0, 0, 4]</td>\n",
       "      <td>tensor([ 0,  8,  9, -1,  1,  2, 12,  3,  4,  5...</td>\n",
       "      <td>0.000000</td>\n",
       "      <td>0.066667</td>\n",
       "      <td>0.0</td>\n",
       "      <td>0.0</td>\n",
       "      <td>0.0</td>\n",
       "      <td>0.0</td>\n",
       "      <td>0.000000</td>\n",
       "      <td>0.0</td>\n",
       "      <td>0</td>\n",
       "      <td>0</td>\n",
       "      <td>0</td>\n",
       "    </tr>\n",
       "    <tr>\n",
       "      <th>15762</th>\n",
       "      <td>[3.5, 1.0, 3.5, 3.5, 3.5, 3.5, 3.5, 3.5, 3.5, ...</td>\n",
       "      <td>tensor([ 8,  0,  1,  4,  3,  5,  9,  2,  6,  7...</td>\n",
       "      <td>0.934756</td>\n",
       "      <td>0.251988</td>\n",
       "      <td>0.1</td>\n",
       "      <td>0.2</td>\n",
       "      <td>0.4</td>\n",
       "      <td>1.0</td>\n",
       "      <td>0.666667</td>\n",
       "      <td>0.8</td>\n",
       "      <td>1</td>\n",
       "      <td>1</td>\n",
       "      <td>1</td>\n",
       "    </tr>\n",
       "    <tr>\n",
       "      <th>15763</th>\n",
       "      <td>[0, 0, 0, 0, 0, 0, 0, 0, 0, 0, 0, 0, 0, 0, 0, ...</td>\n",
       "      <td>tensor([ 0,  1,  3,  2,  4,  5, 20, 21, 23, 24...</td>\n",
       "      <td>0.000000</td>\n",
       "      <td>0.052632</td>\n",
       "      <td>0.0</td>\n",
       "      <td>0.0</td>\n",
       "      <td>0.0</td>\n",
       "      <td>0.0</td>\n",
       "      <td>0.000000</td>\n",
       "      <td>0.0</td>\n",
       "      <td>0</td>\n",
       "      <td>0</td>\n",
       "      <td>0</td>\n",
       "    </tr>\n",
       "    <tr>\n",
       "      <th>15764</th>\n",
       "      <td>[0, 0, 0, 0, 0, 4, 0, 0, 0, 0, 0, 0, 0, 0, 0, ...</td>\n",
       "      <td>tensor([ 36,  96,  56,  29,  89,  76, 136,  16...</td>\n",
       "      <td>0.000000</td>\n",
       "      <td>0.166667</td>\n",
       "      <td>0.0</td>\n",
       "      <td>0.0</td>\n",
       "      <td>0.0</td>\n",
       "      <td>0.0</td>\n",
       "      <td>0.000000</td>\n",
       "      <td>0.0</td>\n",
       "      <td>0</td>\n",
       "      <td>0</td>\n",
       "      <td>0</td>\n",
       "    </tr>\n",
       "  </tbody>\n",
       "</table>\n",
       "<p>15765 rows × 13 columns</p>\n",
       "</div>"
      ],
      "text/plain": [
       "                                                       y  \\\n",
       "0                                     [0, 0, 4, 0, 4, 0]   \n",
       "1          [4, 0, 0, 0, 0, 0, 3, 0, 0, 0, 0, 0, 0, 0, 0]   \n",
       "2      [0, 0, 0, 3, 0, 0, 0, 0, 0, 0, 0, 0, 0, 0, 0, ...   \n",
       "3                                  [0, 0, 0, 0, 0, 3, 0]   \n",
       "4      [0, 0, 0, 0, 4, 0, 0, 0, 0, 0, 0, 0, 0, 0, 0, ...   \n",
       "...                                                  ...   \n",
       "15760                  [0, 0, 0, 0, 0, 4, 0, 0, 0, 0, 0]   \n",
       "15761      [0, 0, 0, 0, 0, 0, 0, 0, 0, 0, 0, 0, 0, 0, 4]   \n",
       "15762  [3.5, 1.0, 3.5, 3.5, 3.5, 3.5, 3.5, 3.5, 3.5, ...   \n",
       "15763  [0, 0, 0, 0, 0, 0, 0, 0, 0, 0, 0, 0, 0, 0, 0, ...   \n",
       "15764  [0, 0, 0, 0, 0, 4, 0, 0, 0, 0, 0, 0, 0, 0, 0, ...   \n",
       "\n",
       "                                                    rank    nDCG@5       MRR  \\\n",
       "0      tensor([ 0,  1,  3,  4,  2,  5, -1, -1, -1, -1...  0.543771  0.266667   \n",
       "1      tensor([ 8,  9,  0, 10,  4,  1,  3,  2,  5, 12...  1.000000  0.571429   \n",
       "2      tensor([16, 36,  9, 48, 49, 29,  8, 28, 40, 50...  0.430677  0.250000   \n",
       "3      tensor([ 0,  4,  1,  3,  5,  6,  2, -1, -1, -1...  0.000000  0.166667   \n",
       "4      tensor([ 8, 16,  9,  0,  1,  2,  3,  5, 12, 10...  0.386853  0.200000   \n",
       "...                                                  ...       ...       ...   \n",
       "15760  tensor([-1,  9,  8,  0,  1,  2, -1, 10,  5,  4...  0.000000  0.166667   \n",
       "15761  tensor([ 0,  8,  9, -1,  1,  2, 12,  3,  4,  5...  0.000000  0.066667   \n",
       "15762  tensor([ 8,  0,  1,  4,  3,  5,  9,  2,  6,  7...  0.934756  0.251988   \n",
       "15763  tensor([ 0,  1,  3,  2,  4,  5, 20, 21, 23, 24...  0.000000  0.052632   \n",
       "15764  tensor([ 36,  96,  56,  29,  89,  76, 136,  16...  0.000000  0.166667   \n",
       "\n",
       "       Recall@1  Recall@3  Recall@5  Precision@1  Precision@3  Precision@5  \\\n",
       "0           0.0       0.5       1.0          0.0     0.333333          0.4   \n",
       "1           0.5       0.5       0.5          1.0     0.333333          0.2   \n",
       "2           0.0       0.0       1.0          0.0     0.000000          0.2   \n",
       "3           0.0       0.0       0.0          0.0     0.000000          0.0   \n",
       "4           0.0       0.0       1.0          0.0     0.000000          0.2   \n",
       "...         ...       ...       ...          ...          ...          ...   \n",
       "15760       0.0       0.0       0.0          0.0     0.000000          0.0   \n",
       "15761       0.0       0.0       0.0          0.0     0.000000          0.0   \n",
       "15762       0.1       0.2       0.4          1.0     0.666667          0.8   \n",
       "15763       0.0       0.0       0.0          0.0     0.000000          0.0   \n",
       "15764       0.0       0.0       0.0          0.0     0.000000          0.0   \n",
       "\n",
       "       Hit@1  Hit@3  Hit@5  \n",
       "0          0      1      1  \n",
       "1          1      1      1  \n",
       "2          0      0      1  \n",
       "3          0      0      0  \n",
       "4          0      0      1  \n",
       "...      ...    ...    ...  \n",
       "15760      0      0      0  \n",
       "15761      0      0      0  \n",
       "15762      1      1      1  \n",
       "15763      0      0      0  \n",
       "15764      0      0      0  \n",
       "\n",
       "[15765 rows x 13 columns]"
      ]
     },
     "execution_count": 57,
     "metadata": {},
     "output_type": "execute_result"
    }
   ],
   "source": [
    "# df = df.dropna()\n",
    "df"
   ]
  },
  {
   "cell_type": "code",
   "execution_count": null,
   "id": "9998ddca-2060-4ddf-889a-bfe78b5c9850",
   "metadata": {},
   "outputs": [],
   "source": []
  }
 ],
 "metadata": {
  "kernelspec": {
   "display_name": "llama_env",
   "language": "python",
   "name": "llama_env"
  },
  "language_info": {
   "codemirror_mode": {
    "name": "ipython",
    "version": 3
   },
   "file_extension": ".py",
   "mimetype": "text/x-python",
   "name": "python",
   "nbconvert_exporter": "python",
   "pygments_lexer": "ipython3",
   "version": "3.11.5"
  }
 },
 "nbformat": 4,
 "nbformat_minor": 5
}
