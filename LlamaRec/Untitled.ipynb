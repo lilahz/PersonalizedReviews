{
 "cells": [
  {
   "cell_type": "code",
   "execution_count": 2,
   "id": "c9c963fc-4ad7-4801-8964-f95669b4a64d",
   "metadata": {},
   "outputs": [],
   "source": [
    "import pandas as pd\n",
    "\n",
    "from nltk.tokenize import word_tokenize\n",
    "from tqdm import tqdm\n",
    "\n",
    "tqdm.pandas()"
   ]
  },
  {
   "cell_type": "code",
   "execution_count": 3,
   "id": "616ec74b-b0f8-4fd2-b8bb-a395a2056120",
   "metadata": {},
   "outputs": [],
   "source": [
    "# Beauty full reviews \n",
    "reviews = pd.read_csv('/sise/bshapira-group/lilachzi/csvs/ciao_4core_summary.tsv', sep='\\t')"
   ]
  },
  {
   "cell_type": "code",
   "execution_count": 14,
   "id": "e18ba080-67cc-4ada-886e-7404581f4e56",
   "metadata": {},
   "outputs": [
    {
     "data": {
      "text/plain": [
       "\"As a frequent reader of PC Answers magazine, I can confidently say that it's an invaluable resource for anyone who wants to improve their computer skills and solve problems related to hardware and software. The magazine is well structured and easy to navigate, with each section providing valuable information and tips. The Support section is particularly useful, as it addresses readers' problems and provides detailed solutions from the magazine's expert team. I've found their answers to be accurate and helpful in resolving issues that I've encountered on my own computer. The Solutions section is also a highlight, offering practical guides and tips on various topics such as web browsers, operating systems, and graphic utilities. The Windows section is another standout feature, providing useful information on how to tweak and improve the performance of Windows based systems. I've learned a lot from this section, especially when it comes to optimizing my system for better performance. The Feature section is also informative, covering topics such as upgrading hardware and software, and improving computer security. The magazine's cover disk is another great asset, featuring a collection of useful programs that can help solve common computer problems. I've found the software on the disk to be reliable and easy to use. In addition to the print version of the magazine, PC Answers also has an excellent website (www.pcanswers.co.uk) that offers even more features and resources. The discussion forum is particularly useful, as it allows readers to ask questions and get answers from other experts and enthusiasts. Overall, I highly recommend PC Answers to anyone who wants to improve their computer skills and solve problems related to hardware and software. At 4.99, it's a great value for the information and resources provided.\""
      ]
     },
     "execution_count": 14,
     "metadata": {},
     "output_type": "execute_result"
    }
   ],
   "source": [
    "reviews[reviews['review_id'] == 115860]['summary'].item()"
   ]
  },
  {
   "cell_type": "code",
   "execution_count": 10,
   "id": "3581a6c4-be3a-4131-9935-23bc38b61a2b",
   "metadata": {},
   "outputs": [
    {
     "data": {
      "text/plain": [
       "count    135880.000000\n",
       "mean        262.772049\n",
       "std          87.745404\n",
       "min          25.000000\n",
       "25%         203.000000\n",
       "50%         253.000000\n",
       "75%         311.000000\n",
       "max        1753.000000\n",
       "Name: summary, dtype: float64"
      ]
     },
     "execution_count": 10,
     "metadata": {},
     "output_type": "execute_result"
    }
   ],
   "source": [
    "reviews['summary'].apply(lambda t: len(t.split())).describe()"
   ]
  },
  {
   "cell_type": "code",
   "execution_count": null,
   "id": "208ea26e-eea3-43e4-9d16-cfb2b74cf570",
   "metadata": {},
   "outputs": [],
   "source": []
  },
  {
   "cell_type": "code",
   "execution_count": 17,
   "id": "01785f33-2f2b-4293-8c40-77eebf4b7d85",
   "metadata": {},
   "outputs": [
    {
     "name": "stderr",
     "output_type": "stream",
     "text": [
      "100%|██████████| 135880/135880 [05:23<00:00, 420.27it/s] \n"
     ]
    }
   ],
   "source": [
    "reviews['len'] = reviews['clean_review'].progress_apply(lambda r: len(word_tokenize(r)))"
   ]
  },
  {
   "cell_type": "code",
   "execution_count": 20,
   "id": "6d10d7c2-0304-4505-82ac-1a920d1d9742",
   "metadata": {},
   "outputs": [
    {
     "data": {
      "text/plain": [
       "count    135880.000000\n",
       "mean        680.725478\n",
       "std         538.926781\n",
       "min          90.000000\n",
       "25%         293.000000\n",
       "50%         547.000000\n",
       "75%         908.000000\n",
       "max        8508.000000\n",
       "Name: len, dtype: float64"
      ]
     },
     "execution_count": 20,
     "metadata": {},
     "output_type": "execute_result"
    }
   ],
   "source": [
    "reviews['len'].describe()"
   ]
  },
  {
   "cell_type": "code",
   "execution_count": 34,
   "id": "10a9e3d9-6f07-4349-84e2-1a48b4e660fc",
   "metadata": {},
   "outputs": [],
   "source": [
    "# Beauty summarized reviews\n",
    "reviews = pd.read_csv('/sise/bshapira-group/lilachzi/csvs/ciao_4core_summary.tsv', sep='\\t')"
   ]
  },
  {
   "cell_type": "code",
   "execution_count": null,
   "id": "de964bbe-4cd6-481d-bef7-51097a0470e8",
   "metadata": {},
   "outputs": [],
   "source": [
    "reviews['len'] = reviews['summary'].progress_apply(lambda r: len(word_tokenize(r)))"
   ]
  },
  {
   "cell_type": "code",
   "execution_count": 33,
   "id": "9bc6c892-05b9-493d-9564-a47451ad2ea4",
   "metadata": {},
   "outputs": [
    {
     "data": {
      "text/plain": [
       "count    135880.000000\n",
       "mean        262.774293\n",
       "std          87.743443\n",
       "min          25.000000\n",
       "25%         203.000000\n",
       "50%         253.000000\n",
       "75%         311.000000\n",
       "max        1753.000000\n",
       "Name: summary_len, dtype: float64"
      ]
     },
     "execution_count": 33,
     "metadata": {},
     "output_type": "execute_result"
    }
   ],
   "source": [
    "reviews['summary_len'].describe()"
   ]
  },
  {
   "cell_type": "code",
   "execution_count": 2,
   "id": "63e08f08-bdf1-45c5-a139-3f0a15d27f95",
   "metadata": {},
   "outputs": [],
   "source": [
    "train_set = pd.read_csv('/sise/bshapira-group/lilachzi/csvs/train_set.csv', converters={'y_true': eval})\n",
    "valid_set = pd.read_csv('/sise/bshapira-group/lilachzi/csvs/valid_set.csv', converters={'y_true': eval})\n",
    "test_set = pd.read_csv('/sise/bshapira-group/lilachzi/csvs/test_set.csv', converters={'y_true': eval})"
   ]
  },
  {
   "cell_type": "code",
   "execution_count": 3,
   "id": "94c4eda0-ea0e-4850-843b-84a5c9c8bb10",
   "metadata": {},
   "outputs": [],
   "source": [
    "category = 'Internet'"
   ]
  },
  {
   "cell_type": "code",
   "execution_count": 4,
   "id": "a784b5ec-1262-45b7-b0cd-ccbbc076de86",
   "metadata": {},
   "outputs": [],
   "source": [
    "full_set = pd.concat([train_set, valid_set, test_set])\n",
    "full_set = full_set[full_set['category'] == category]"
   ]
  },
  {
   "cell_type": "code",
   "execution_count": 5,
   "id": "7cc251e6-ccb6-4113-bc0f-20062a98ec1c",
   "metadata": {},
   "outputs": [
    {
     "name": "stderr",
     "output_type": "stream",
     "text": [
      "100%|██████████| 131359/131359 [00:00<00:00, 513093.29it/s]\n"
     ]
    }
   ],
   "source": [
    "full_set['len'] = full_set['y_true'].progress_apply(len)"
   ]
  },
  {
   "cell_type": "code",
   "execution_count": 6,
   "id": "aafd34a2-49dc-425f-8cf9-d1f93eb11e8e",
   "metadata": {},
   "outputs": [
    {
     "data": {
      "text/plain": [
       "count    131359.000000\n",
       "mean         39.617004\n",
       "std          74.745840\n",
       "min           4.000000\n",
       "25%           7.000000\n",
       "50%          15.000000\n",
       "75%          35.000000\n",
       "max         513.000000\n",
       "Name: len, dtype: float64"
      ]
     },
     "execution_count": 6,
     "metadata": {},
     "output_type": "execute_result"
    }
   ],
   "source": [
    "full_set['len'].describe()"
   ]
  },
  {
   "cell_type": "code",
   "execution_count": 7,
   "id": "101e90d5-d677-48de-b8c2-015d1a044cce",
   "metadata": {},
   "outputs": [
    {
     "name": "stderr",
     "output_type": "stream",
     "text": [
      "100%|██████████| 26337/26337 [00:00<00:00, 916132.17it/s]\n",
      "/tmp/ipykernel_1805867/1011186968.py:2: SettingWithCopyWarning: \n",
      "A value is trying to be set on a copy of a slice from a DataFrame.\n",
      "Try using .loc[row_indexer,col_indexer] = value instead\n",
      "\n",
      "See the caveats in the documentation: https://pandas.pydata.org/pandas-docs/stable/user_guide/indexing.html#returning-a-view-versus-a-copy\n",
      "  sub_test_set['len'] = sub_test_set['y_true'].progress_apply(len)\n"
     ]
    }
   ],
   "source": [
    "sub_test_set = test_set[test_set['category'] == category]\n",
    "sub_test_set['len'] = sub_test_set['y_true'].progress_apply(len)"
   ]
  },
  {
   "cell_type": "code",
   "execution_count": 8,
   "id": "9afb9c95-9bc2-4746-98f2-dac77c304afb",
   "metadata": {},
   "outputs": [
    {
     "data": {
      "text/plain": [
       "count    26337.000000\n",
       "mean        39.906633\n",
       "std         75.521050\n",
       "min          4.000000\n",
       "25%          7.000000\n",
       "50%         15.000000\n",
       "75%         35.000000\n",
       "max        513.000000\n",
       "Name: len, dtype: float64"
      ]
     },
     "execution_count": 8,
     "metadata": {},
     "output_type": "execute_result"
    }
   ],
   "source": [
    "sub_test_set['len'].describe()"
   ]
  },
  {
   "cell_type": "code",
   "execution_count": null,
   "id": "737bce01-e689-453d-b2c9-903fc1b2bba2",
   "metadata": {},
   "outputs": [],
   "source": []
  }
 ],
 "metadata": {
  "kernelspec": {
   "display_name": "llama_env",
   "language": "python",
   "name": "llama_env"
  },
  "language_info": {
   "codemirror_mode": {
    "name": "ipython",
    "version": 3
   },
   "file_extension": ".py",
   "mimetype": "text/x-python",
   "name": "python",
   "nbconvert_exporter": "python",
   "pygments_lexer": "ipython3",
   "version": "3.11.5"
  }
 },
 "nbformat": 4,
 "nbformat_minor": 5
}
