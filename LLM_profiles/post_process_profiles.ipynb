{
 "cells": [
  {
   "cell_type": "code",
   "execution_count": 9,
   "id": "e8360754-37fe-47ac-a912-3111733abb41",
   "metadata": {},
   "outputs": [],
   "source": [
    "import os\n",
    "import pandas as pd\n",
    "import re\n",
    "\n",
    "from tqdm import tqdm\n",
    "\n",
    "tqdm.pandas()"
   ]
  },
  {
   "cell_type": "code",
   "execution_count": 11,
   "id": "b58082eb-7dfe-46b8-9b8c-b3e68d8e9cc6",
   "metadata": {},
   "outputs": [],
   "source": [
    "PROFILES_PATH = '/sise/bshapira-group/lilachzi/models/llm/llama_cpp_python/'\n",
    "\n",
    "category = 'Beauty'\n",
    "signal = 'both'\n",
    "\n",
    "split = 'train'\n",
    "\n",
    "profile_csv = os.path.join(PROFILES_PATH, f'ciao_{category}', f'{signal}_{split}_profiles.csv')\n",
    "\n",
    "profiles = pd.read_csv(profile_csv)"
   ]
  },
  {
   "cell_type": "code",
   "execution_count": 12,
   "id": "66f2fbc1-2bc2-48b1-b6c2-0193079d85ec",
   "metadata": {},
   "outputs": [],
   "source": [
    "profiles = profiles.drop_duplicates(subset='user_id', keep='first')"
   ]
  },
  {
   "cell_type": "code",
   "execution_count": 13,
   "id": "13978b70-e9e7-447a-bfe8-4eecaf6f3c4a",
   "metadata": {},
   "outputs": [],
   "source": [
    "set_df = pd.read_csv(f'/sise/bshapira-group/lilachzi/csvs/{split}_set.csv')\n",
    "set_df = set_df[set_df['category'] == category]"
   ]
  },
  {
   "cell_type": "code",
   "execution_count": 6,
   "id": "7edb5b6c-5260-4d6a-b973-d89fc5ec9cd5",
   "metadata": {},
   "outputs": [],
   "source": [
    "# sample = profiles.sample(1)['profile'].item()"
   ]
  },
  {
   "cell_type": "markdown",
   "id": "adc1b6df-e189-4f8f-9e48-821c6c0510d2",
   "metadata": {},
   "source": [
    "* remove Profile: prefix\n",
    "* numbered list - 1. 2. 3. ..\n",
    "* bullet list - \\* \\* ..."
   ]
  },
  {
   "cell_type": "code",
   "execution_count": 15,
   "id": "bd172180-9c12-42e7-b648-e6fe855f8299",
   "metadata": {},
   "outputs": [
    {
     "name": "stderr",
     "output_type": "stream",
     "text": [
      "100%|██████████| 4081/4081 [00:00<00:00, 111018.57it/s]\n"
     ]
    }
   ],
   "source": [
    "def post_process_profile(profile):\n",
    "    # Remove Profile: prefix\n",
    "    profile = re.sub(r'^\\s*Profile:\\s*', '', profile)\n",
    "    profile = profile.strip()\n",
    "\n",
    "    # Remove numbered lists \n",
    "    profile = re.sub(r'\\n\\d+\\.', '', profile)\n",
    "\n",
    "    # Remove bullet lists\n",
    "    profile = re.sub(r'\\n\\*\\.', '', profile)\n",
    "\n",
    "    profile = profile.replace('\\n', ' ').replace('\\'', '')\n",
    "\n",
    "    return profile\n",
    "\n",
    "profiles['profile'] = profiles['profile'].progress_apply(post_process_profile)"
   ]
  },
  {
   "cell_type": "code",
   "execution_count": 16,
   "id": "8d7cf851-940c-4b4d-83a1-5a5df5f3b26c",
   "metadata": {},
   "outputs": [],
   "source": [
    "profiles.to_csv(profile_csv, index=False)"
   ]
  },
  {
   "cell_type": "code",
   "execution_count": null,
   "id": "ebe15782-1efa-4ced-9637-8eb4508f0ec8",
   "metadata": {},
   "outputs": [],
   "source": []
  }
 ],
 "metadata": {
  "kernelspec": {
   "display_name": "Python 3 (ipykernel)",
   "language": "python",
   "name": "python3"
  },
  "language_info": {
   "codemirror_mode": {
    "name": "ipython",
    "version": 3
   },
   "file_extension": ".py",
   "mimetype": "text/x-python",
   "name": "python",
   "nbconvert_exporter": "python",
   "pygments_lexer": "ipython3",
   "version": "3.11.7"
  }
 },
 "nbformat": 4,
 "nbformat_minor": 5
}
